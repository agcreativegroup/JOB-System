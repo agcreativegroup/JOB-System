{
  "nbformat": 4,
  "nbformat_minor": 0,
  "metadata": {
    "colab": {
      "provenance": []
    },
    "kernelspec": {
      "name": "python3",
      "display_name": "Python 3"
    },
    "language_info": {
      "name": "python"
    }
  },
  "cells": [
    {
      "cell_type": "code",
      "execution_count": 1,
      "metadata": {
        "colab": {
          "base_uri": "https://localhost:8080/"
        },
        "id": "XqIJR0sfr_Jy",
        "outputId": "e24a6223-f1e1-4a02-bb88-c0eec3264481"
      },
      "outputs": [
        {
          "output_type": "stream",
          "name": "stdout",
          "text": [
            " TensorFlow loaded successfully\n",
            "============================================================\n",
            "JOB MARKET ANALYSIS - LSTM MODEL BUILDING\n",
            "============================================================\n"
          ]
        }
      ],
      "source": [
        "import pandas as pd\n",
        "import numpy as np\n",
        "import matplotlib.pyplot as plt\n",
        "import seaborn as sns\n",
        "from sklearn.preprocessing import MinMaxScaler, LabelEncoder\n",
        "from sklearn.metrics import mean_squared_error, mean_absolute_error\n",
        "import warnings\n",
        "warnings.filterwarnings('ignore')\n",
        "\n",
        "# Deep Learning imports\n",
        "try:\n",
        "    import tensorflow as tf\n",
        "    from tensorflow.keras.models import Sequential\n",
        "    from tensorflow.keras.layers import LSTM, Dense, Dropout, Embedding, Conv1D, MaxPooling1D, Flatten\n",
        "    from tensorflow.keras.preprocessing.text import Tokenizer\n",
        "    from tensorflow.keras.preprocessing.sequence import pad_sequences\n",
        "    from tensorflow.keras.optimizers import Adam\n",
        "    from tensorflow.keras.callbacks import EarlyStopping, ReduceLROnPlateau\n",
        "    print(\" TensorFlow loaded successfully\")\n",
        "except ImportError:\n",
        "    print(\" TensorFlow not available. Please install: pip install tensorflow\")\n",
        "    exit()\n",
        "\n",
        "print(\"=\"*60)\n",
        "print(\"JOB MARKET ANALYSIS - LSTM MODEL BUILDING\")\n",
        "print(\"=\"*60)"
      ]
    },
    {
      "cell_type": "code",
      "source": [
        "# Load cleaned data\n",
        "df = pd.read_csv('/content/cleaned_job_EDA.csv')\n",
        "df['published_date'] = pd.to_datetime(df['published_date'])\n",
        "print(f\" Loaded data: {df.shape[0]} rows, {df.shape[1]} columns\")"
      ],
      "metadata": {
        "colab": {
          "base_uri": "https://localhost:8080/"
        },
        "id": "tqulYPRFsAs4",
        "outputId": "c44de65d-9393-4406-e502-ad23f0f259fb"
      },
      "execution_count": 3,
      "outputs": [
        {
          "output_type": "stream",
          "name": "stdout",
          "text": [
            " Loaded data: 244656 rows, 30 columns\n"
          ]
        }
      ]
    },
    {
      "cell_type": "code",
      "source": [
        "# TASK 1: TIME SERIES PREDICTION OF JOB POSTINGS\n",
        "print(\"\\n\" + \"=\"*50)\n",
        "print(\"TASK 1: JOB POSTING VOLUME PREDICTION\")\n",
        "print(\"=\"*50)\n",
        "\n",
        "# Prepare daily job counts time series\n",
        "daily_jobs = df.groupby(df['published_date'].dt.date).size().reset_index()\n",
        "daily_jobs.columns = ['date', 'job_count']\n",
        "daily_jobs['date'] = pd.to_datetime(daily_jobs['date'])\n",
        "daily_jobs = daily_jobs.sort_values('date').reset_index(drop=True)\n",
        "\n",
        "print(f\" Time series data: {len(daily_jobs)} days\")\n",
        "print(f\" Date range: {daily_jobs['date'].min().date()} to {daily_jobs['date'].max().date()}\")\n",
        "print(f\" Average jobs per day: {daily_jobs['job_count'].mean():.1f}\")\n"
      ],
      "metadata": {
        "colab": {
          "base_uri": "https://localhost:8080/"
        },
        "id": "rY31ahmrsUC_",
        "outputId": "8bf65aee-273f-40a7-9ef9-962ad2467a27"
      },
      "execution_count": 4,
      "outputs": [
        {
          "output_type": "stream",
          "name": "stdout",
          "text": [
            "\n",
            "==================================================\n",
            "TASK 1: JOB POSTING VOLUME PREDICTION\n",
            "==================================================\n",
            " Time series data: 89 days\n",
            " Date range: 2023-11-02 to 2024-03-24\n",
            " Average jobs per day: 2748.9\n"
          ]
        }
      ]
    },
    {
      "cell_type": "code",
      "source": [
        "# Create sequences for LSTM\n",
        "def create_sequences(data, seq_length):\n",
        "    \"\"\"Create sequences for LSTM training\"\"\"\n",
        "    sequences = []\n",
        "    targets = []\n",
        "\n",
        "    for i in range(len(data) - seq_length):\n",
        "        sequences.append(data[i:i + seq_length])\n",
        "        targets.append(data[i + seq_length])\n",
        "\n",
        "    return np.array(sequences), np.array(targets)\n",
        "\n",
        "# Prepare data for LSTM\n",
        "seq_length = 7  # Use 7 days to predict next day\n",
        "scaler = MinMaxScaler()\n",
        "job_counts_scaled = scaler.fit_transform(daily_jobs[['job_count']])\n"
      ],
      "metadata": {
        "id": "jI8vjeoZsbqw"
      },
      "execution_count": 5,
      "outputs": []
    },
    {
      "cell_type": "code",
      "source": [
        "# Create sequences\n",
        "X, y = create_sequences(job_counts_scaled.flatten(), seq_length)\n",
        "print(f\"📋 Created {len(X)} sequences of length {seq_length}\")\n",
        "\n",
        "# Split data\n",
        "split_ratio = 0.8\n",
        "split_index = int(len(X) * split_ratio)\n",
        "\n",
        "X_train, X_test = X[:split_index], X[split_index:]\n",
        "y_train, y_test = y[:split_index], y[split_index:]\n",
        "\n",
        "# Reshape for LSTM (samples, time steps, features)\n",
        "X_train = X_train.reshape((X_train.shape[0], X_train.shape[1], 1))\n",
        "X_test = X_test.reshape((X_test.shape[0], X_test.shape[1], 1))\n",
        "\n",
        "print(f\" Training data: {X_train.shape}\")\n",
        "print(f\" Testing data: {X_test.shape}\")"
      ],
      "metadata": {
        "colab": {
          "base_uri": "https://localhost:8080/"
        },
        "id": "_sqTy0fasosX",
        "outputId": "a1210d01-bb46-4987-d203-a503b6d63f43"
      },
      "execution_count": 6,
      "outputs": [
        {
          "output_type": "stream",
          "name": "stdout",
          "text": [
            "📋 Created 82 sequences of length 7\n",
            " Training data: (65, 7, 1)\n",
            " Testing data: (17, 7, 1)\n"
          ]
        }
      ]
    },
    {
      "cell_type": "code",
      "source": [
        "# Build LSTM Model\n",
        "print(\"\\n Building LSTM model...\")\n",
        "\n",
        "model_lstm = Sequential([\n",
        "    LSTM(50, return_sequences=True, input_shape=(seq_length, 1)),\n",
        "    Dropout(0.2),\n",
        "    LSTM(50, return_sequences=False),\n",
        "    Dropout(0.2),\n",
        "    Dense(25),\n",
        "    Dense(1)\n",
        "])\n",
        "\n",
        "model_lstm.compile(optimizer=Adam(learning_rate=0.001), loss='mse', metrics=['mae'])\n",
        "print(\" LSTM model compiled\")\n"
      ],
      "metadata": {
        "colab": {
          "base_uri": "https://localhost:8080/"
        },
        "id": "wsVMM9cdsxjN",
        "outputId": "aa815782-ee2e-419b-e0a1-939d7bf6a508"
      },
      "execution_count": 8,
      "outputs": [
        {
          "output_type": "stream",
          "name": "stdout",
          "text": [
            "\n",
            " Building LSTM model...\n",
            " LSTM model compiled\n"
          ]
        }
      ]
    },
    {
      "cell_type": "code",
      "source": [
        "# Train the model\n",
        "print(\"\\n Training LSTM model...\")\n",
        "early_stopping = EarlyStopping(monitor='val_loss', patience=10, restore_best_weights=True)\n",
        "reduce_lr = ReduceLROnPlateau(monitor='val_loss', factor=0.5, patience=5, min_lr=0.0001)\n",
        "\n",
        "history = model_lstm.fit(\n",
        "    X_train, y_train,\n",
        "    epochs=50,\n",
        "    batch_size=16,\n",
        "    validation_data=(X_test, y_test),\n",
        "    callbacks=[early_stopping, reduce_lr],\n",
        "    verbose=1\n",
        ")\n",
        "\n",
        "print(\" LSTM training completed\")\n"
      ],
      "metadata": {
        "colab": {
          "base_uri": "https://localhost:8080/"
        },
        "id": "yYGu9ndus6Q9",
        "outputId": "05b4795c-31d0-4a77-ec24-3355b3aed447"
      },
      "execution_count": 10,
      "outputs": [
        {
          "output_type": "stream",
          "name": "stdout",
          "text": [
            "\n",
            " Training LSTM model...\n",
            "Epoch 1/50\n",
            "\u001b[1m5/5\u001b[0m \u001b[32m━━━━━━━━━━━━━━━━━━━━\u001b[0m\u001b[37m\u001b[0m \u001b[1m1s\u001b[0m 149ms/step - loss: 0.2053 - mae: 0.2922 - val_loss: 0.2384 - val_mae: 0.4581 - learning_rate: 0.0010\n",
            "Epoch 2/50\n",
            "\u001b[1m5/5\u001b[0m \u001b[32m━━━━━━━━━━━━━━━━━━━━\u001b[0m\u001b[37m\u001b[0m \u001b[1m1s\u001b[0m 31ms/step - loss: 0.0981 - mae: 0.2391 - val_loss: 0.0572 - val_mae: 0.2046 - learning_rate: 0.0010\n",
            "Epoch 3/50\n",
            "\u001b[1m5/5\u001b[0m \u001b[32m━━━━━━━━━━━━━━━━━━━━\u001b[0m\u001b[37m\u001b[0m \u001b[1m0s\u001b[0m 32ms/step - loss: 0.0572 - mae: 0.2057 - val_loss: 0.0448 - val_mae: 0.1352 - learning_rate: 0.0010\n",
            "Epoch 4/50\n",
            "\u001b[1m5/5\u001b[0m \u001b[32m━━━━━━━━━━━━━━━━━━━━\u001b[0m\u001b[37m\u001b[0m \u001b[1m0s\u001b[0m 30ms/step - loss: 0.0436 - mae: 0.1825 - val_loss: 0.0423 - val_mae: 0.1320 - learning_rate: 0.0010\n",
            "Epoch 5/50\n",
            "\u001b[1m5/5\u001b[0m \u001b[32m━━━━━━━━━━━━━━━━━━━━\u001b[0m\u001b[37m\u001b[0m \u001b[1m0s\u001b[0m 31ms/step - loss: 0.0375 - mae: 0.1459 - val_loss: 0.0367 - val_mae: 0.1751 - learning_rate: 0.0010\n",
            "Epoch 6/50\n",
            "\u001b[1m5/5\u001b[0m \u001b[32m━━━━━━━━━━━━━━━━━━━━\u001b[0m\u001b[37m\u001b[0m \u001b[1m0s\u001b[0m 27ms/step - loss: 0.0372 - mae: 0.1268 - val_loss: 0.0373 - val_mae: 0.1765 - learning_rate: 0.0010\n",
            "Epoch 7/50\n",
            "\u001b[1m5/5\u001b[0m \u001b[32m━━━━━━━━━━━━━━━━━━━━\u001b[0m\u001b[37m\u001b[0m \u001b[1m0s\u001b[0m 29ms/step - loss: 0.0465 - mae: 0.1383 - val_loss: 0.0332 - val_mae: 0.1482 - learning_rate: 0.0010\n",
            "Epoch 8/50\n",
            "\u001b[1m5/5\u001b[0m \u001b[32m━━━━━━━━━━━━━━━━━━━━\u001b[0m\u001b[37m\u001b[0m \u001b[1m0s\u001b[0m 28ms/step - loss: 0.0300 - mae: 0.1143 - val_loss: 0.0651 - val_mae: 0.1809 - learning_rate: 0.0010\n",
            "Epoch 9/50\n",
            "\u001b[1m5/5\u001b[0m \u001b[32m━━━━━━━━━━━━━━━━━━━━\u001b[0m\u001b[37m\u001b[0m \u001b[1m0s\u001b[0m 28ms/step - loss: 0.0456 - mae: 0.1460 - val_loss: 0.0865 - val_mae: 0.2325 - learning_rate: 0.0010\n",
            "Epoch 10/50\n",
            "\u001b[1m5/5\u001b[0m \u001b[32m━━━━━━━━━━━━━━━━━━━━\u001b[0m\u001b[37m\u001b[0m \u001b[1m0s\u001b[0m 32ms/step - loss: 0.0338 - mae: 0.1205 - val_loss: 0.0541 - val_mae: 0.1493 - learning_rate: 0.0010\n",
            "Epoch 11/50\n",
            "\u001b[1m5/5\u001b[0m \u001b[32m━━━━━━━━━━━━━━━━━━━━\u001b[0m\u001b[37m\u001b[0m \u001b[1m0s\u001b[0m 36ms/step - loss: 0.0266 - mae: 0.0914 - val_loss: 0.0345 - val_mae: 0.1440 - learning_rate: 0.0010\n",
            "Epoch 12/50\n",
            "\u001b[1m5/5\u001b[0m \u001b[32m━━━━━━━━━━━━━━━━━━━━\u001b[0m\u001b[37m\u001b[0m \u001b[1m0s\u001b[0m 28ms/step - loss: 0.0282 - mae: 0.0869 - val_loss: 0.0331 - val_mae: 0.1518 - learning_rate: 0.0010\n",
            "Epoch 13/50\n",
            "\u001b[1m5/5\u001b[0m \u001b[32m━━━━━━━━━━━━━━━━━━━━\u001b[0m\u001b[37m\u001b[0m \u001b[1m0s\u001b[0m 28ms/step - loss: 0.0450 - mae: 0.1192 - val_loss: 0.0374 - val_mae: 0.1368 - learning_rate: 0.0010\n",
            "Epoch 14/50\n",
            "\u001b[1m5/5\u001b[0m \u001b[32m━━━━━━━━━━━━━━━━━━━━\u001b[0m\u001b[37m\u001b[0m \u001b[1m0s\u001b[0m 36ms/step - loss: 0.0540 - mae: 0.1436 - val_loss: 0.0440 - val_mae: 0.1356 - learning_rate: 0.0010\n",
            "Epoch 15/50\n",
            "\u001b[1m5/5\u001b[0m \u001b[32m━━━━━━━━━━━━━━━━━━━━\u001b[0m\u001b[37m\u001b[0m \u001b[1m0s\u001b[0m 27ms/step - loss: 0.0304 - mae: 0.1133 - val_loss: 0.0457 - val_mae: 0.1380 - learning_rate: 0.0010\n",
            "Epoch 16/50\n",
            "\u001b[1m5/5\u001b[0m \u001b[32m━━━━━━━━━━━━━━━━━━━━\u001b[0m\u001b[37m\u001b[0m \u001b[1m0s\u001b[0m 28ms/step - loss: 0.0358 - mae: 0.1214 - val_loss: 0.0421 - val_mae: 0.1341 - learning_rate: 0.0010\n",
            "Epoch 17/50\n",
            "\u001b[1m5/5\u001b[0m \u001b[32m━━━━━━━━━━━━━━━━━━━━\u001b[0m\u001b[37m\u001b[0m \u001b[1m0s\u001b[0m 27ms/step - loss: 0.0348 - mae: 0.1194 - val_loss: 0.0356 - val_mae: 0.1425 - learning_rate: 0.0010\n",
            "Epoch 18/50\n",
            "\u001b[1m5/5\u001b[0m \u001b[32m━━━━━━━━━━━━━━━━━━━━\u001b[0m\u001b[37m\u001b[0m \u001b[1m0s\u001b[0m 27ms/step - loss: 0.0267 - mae: 0.1035 - val_loss: 0.0353 - val_mae: 0.1437 - learning_rate: 5.0000e-04\n",
            "Epoch 19/50\n",
            "\u001b[1m5/5\u001b[0m \u001b[32m━━━━━━━━━━━━━━━━━━━━\u001b[0m\u001b[37m\u001b[0m \u001b[1m0s\u001b[0m 27ms/step - loss: 0.0365 - mae: 0.1147 - val_loss: 0.0354 - val_mae: 0.1437 - learning_rate: 5.0000e-04\n",
            "Epoch 20/50\n",
            "\u001b[1m5/5\u001b[0m \u001b[32m━━━━━━━━━━━━━━━━━━━━\u001b[0m\u001b[37m\u001b[0m \u001b[1m0s\u001b[0m 37ms/step - loss: 0.0216 - mae: 0.0895 - val_loss: 0.0337 - val_mae: 0.1508 - learning_rate: 5.0000e-04\n",
            "Epoch 21/50\n",
            "\u001b[1m5/5\u001b[0m \u001b[32m━━━━━━━━━━━━━━━━━━━━\u001b[0m\u001b[37m\u001b[0m \u001b[1m0s\u001b[0m 27ms/step - loss: 0.0352 - mae: 0.1217 - val_loss: 0.0392 - val_mae: 0.1362 - learning_rate: 5.0000e-04\n",
            "Epoch 22/50\n",
            "\u001b[1m5/5\u001b[0m \u001b[32m━━━━━━━━━━━━━━━━━━━━\u001b[0m\u001b[37m\u001b[0m \u001b[1m0s\u001b[0m 28ms/step - loss: 0.0301 - mae: 0.1171 - val_loss: 0.0442 - val_mae: 0.1371 - learning_rate: 5.0000e-04\n",
            " LSTM training completed\n"
          ]
        }
      ]
    },
    {
      "cell_type": "code",
      "source": [
        "# Make predictions\n",
        "print(\"\\n Making predictions...\")\n",
        "train_predictions = model_lstm.predict(X_train)\n",
        "test_predictions = model_lstm.predict(X_test)\n",
        "\n",
        "# Inverse transform predictions\n",
        "train_predictions = scaler.inverse_transform(train_predictions)\n",
        "test_predictions = scaler.inverse_transform(test_predictions)\n",
        "y_train_actual = scaler.inverse_transform(y_train.reshape(-1, 1))\n",
        "y_test_actual = scaler.inverse_transform(y_test.reshape(-1, 1))\n",
        "\n",
        "# Calculate metrics\n",
        "train_rmse = np.sqrt(mean_squared_error(y_train_actual, train_predictions))\n",
        "test_rmse = np.sqrt(mean_squared_error(y_test_actual, test_predictions))\n",
        "train_mae = mean_absolute_error(y_train_actual, train_predictions)\n",
        "test_mae = mean_absolute_error(y_test_actual, test_predictions)\n",
        "\n",
        "print(f\"\\n Model Performance:\")\n",
        "print(f\"  Training RMSE: {train_rmse:.2f}\")\n",
        "print(f\"  Testing RMSE: {test_rmse:.2f}\")\n",
        "print(f\"  Training MAE: {train_mae:.2f}\")\n",
        "print(f\"  Testing MAE: {test_mae:.2f}\")\n"
      ],
      "metadata": {
        "colab": {
          "base_uri": "https://localhost:8080/"
        },
        "id": "_t06jI8atCe6",
        "outputId": "60df128d-8b4b-4d4e-dd7a-ec8d469bb9d4"
      },
      "execution_count": 11,
      "outputs": [
        {
          "output_type": "stream",
          "name": "stdout",
          "text": [
            "\n",
            " Making predictions...\n",
            "\u001b[1m3/3\u001b[0m \u001b[32m━━━━━━━━━━━━━━━━━━━━\u001b[0m\u001b[37m\u001b[0m \u001b[1m1s\u001b[0m 294ms/step\n",
            "\u001b[1m1/1\u001b[0m \u001b[32m━━━━━━━━━━━━━━━━━━━━\u001b[0m\u001b[37m\u001b[0m \u001b[1m0s\u001b[0m 44ms/step\n",
            "\n",
            " Model Performance:\n",
            "  Training RMSE: 1400.98\n",
            "  Testing RMSE: 1368.42\n",
            "  Training MAE: 741.77\n",
            "  Testing MAE: 1141.78\n"
          ]
        }
      ]
    },
    {
      "cell_type": "code",
      "source": [
        "# Visualize results\n",
        "plt.figure(figsize=(15, 10))\n",
        "\n",
        "plt.subplot(2, 2, 1)\n",
        "plt.plot(history.history['loss'], label='Training Loss')\n",
        "plt.plot(history.history['val_loss'], label='Validation Loss')\n",
        "plt.title('Model Loss During Training')\n",
        "plt.xlabel('Epoch')\n",
        "plt.ylabel('Loss')\n",
        "plt.legend()\n",
        "\n",
        "plt.subplot(2, 2, 2)\n",
        "plt.plot(history.history['mae'], label='Training MAE')\n",
        "plt.plot(history.history['val_mae'], label='Validation MAE')\n",
        "plt.title('Model MAE During Training')\n",
        "plt.xlabel('Epoch')\n",
        "plt.ylabel('MAE')\n",
        "plt.legend()\n",
        "\n",
        "plt.subplot(2, 2, 3)\n",
        "plt.plot(y_test_actual.flatten()[:50], label='Actual', marker='o')\n",
        "plt.plot(test_predictions.flatten()[:50], label='Predicted', marker='s')\n",
        "plt.title('Actual vs Predicted Job Counts (First 50 test points)')\n",
        "plt.xlabel('Time')\n",
        "plt.ylabel('Job Count')\n",
        "plt.legend()\n",
        "\n",
        "plt.subplot(2, 2, 4)\n",
        "residuals = y_test_actual.flatten() - test_predictions.flatten()\n",
        "plt.hist(residuals, bins=20, alpha=0.7, color='skyblue', edgecolor='black')\n",
        "plt.title('Prediction Residuals Distribution')\n",
        "plt.xlabel('Residual')\n",
        "plt.ylabel('Frequency')\n",
        "\n",
        "plt.tight_layout()\n",
        "plt.savefig('lstm_job_volume_prediction.png', dpi=300, bbox_inches='tight')\n",
        "plt.show()\n"
      ],
      "metadata": {
        "colab": {
          "base_uri": "https://localhost:8080/",
          "height": 757
        },
        "id": "aGF0NV4XtXXR",
        "outputId": "5a0ccaac-806f-4c91-a428-50e6d064f6cb"
      },
      "execution_count": 12,
      "outputs": [
        {
          "output_type": "display_data",
          "data": {
            "text/plain": [
              "<Figure size 1500x1000 with 4 Axes>"
            ],
            "image/png": "[encoded data removed]"
          },
          "metadata": {}
        }
      ]
    },
    {
      "cell_type": "code",
      "source": [
        "# TASK 2: CATEGORY-WISE JOB DEMAND PREDICTION\n",
        "print(\"\\n\" + \"=\"*50)\n",
        "print(\"TASK 2: CATEGORY-WISE DEMAND PREDICTION\")\n",
        "print(\"=\"*50)\n",
        "\n",
        "# Prepare category-wise time series data\n",
        "category_daily = df.groupby([df['published_date'].dt.date, 'job_category']).size().unstack(fill_value=0)\n",
        "category_daily.index = pd.to_datetime(category_daily.index)\n",
        "category_daily = category_daily.sort_index()\n",
        "\n",
        "print(f\" Category time series shape: {category_daily.shape}\")\n",
        "print(f\" Categories: {list(category_daily.columns)}\")\n",
        "\n",
        "\n"
      ],
      "metadata": {
        "colab": {
          "base_uri": "https://localhost:8080/"
        },
        "id": "1A_kUAvtteBK",
        "outputId": "1ae1217f-579c-4681-9fae-c27fafafc6ff"
      },
      "execution_count": 13,
      "outputs": [
        {
          "output_type": "stream",
          "name": "stdout",
          "text": [
            "\n",
            "==================================================\n",
            "TASK 2: CATEGORY-WISE DEMAND PREDICTION\n",
            "==================================================\n",
            " Category time series shape: (89, 12)\n",
            " Categories: ['Business & Management', 'Customer Support', 'Data & Analytics', 'Design & Creative', 'E-commerce & Retail', 'Finance & Accounting', 'Marketing & Advertising', 'Marketing & Sales', 'Other', 'Sales & Business Development', 'Software Development', 'Writing & Content']\n"
          ]
        }
      ]
    },
    {
      "cell_type": "code",
      "source": [
        "# Build multi-output LSTM for category prediction\n",
        "print(\"\\n Building multi-output LSTM for categories...\")\n",
        "\n",
        "# Prepare data\n",
        "seq_length_cat = 5  # Use 5 days to predict next day for each category\n",
        "scaler_cat = MinMaxScaler()\n",
        "category_data_scaled = scaler_cat.fit_transform(category_daily.values)\n",
        "\n",
        "# Create sequences for multiple outputs\n",
        "def create_multi_sequences(data, seq_length):\n",
        "    X, y = [], []\n",
        "    for i in range(len(data) - seq_length):\n",
        "        X.append(data[i:i + seq_length])\n",
        "        y.append(data[i + seq_length])\n",
        "    return np.array(X), np.array(y)\n",
        "\n",
        "X_cat, y_cat = create_multi_sequences(category_data_scaled, seq_length_cat)\n",
        "\n",
        "# Split data\n",
        "split_idx = int(len(X_cat) * 0.8)\n",
        "X_cat_train, X_cat_test = X_cat[:split_idx], X_cat[split_idx:]\n",
        "y_cat_train, y_cat_test = y_cat[:split_idx], y_cat[split_idx:]\n",
        "\n",
        "print(f\" Category training data: {X_cat_train.shape}\")\n",
        "print(f\" Category testing data: {X_cat_test.shape}\")"
      ],
      "metadata": {
        "colab": {
          "base_uri": "https://localhost:8080/"
        },
        "id": "_s2fKe2YtunD",
        "outputId": "4f5e838d-7e2c-48d2-ef5e-8ab539ca55c8"
      },
      "execution_count": 15,
      "outputs": [
        {
          "output_type": "stream",
          "name": "stdout",
          "text": [
            "\n",
            " Building multi-output LSTM for categories...\n",
            " Category training data: (67, 5, 12)\n",
            " Category testing data: (17, 5, 12)\n"
          ]
        }
      ]
    },
    {
      "cell_type": "code",
      "source": [
        "# Build multi-output LSTM model\n",
        "n_features = category_daily.shape[1]\n",
        "\n",
        "model_multi = Sequential([\n",
        "    LSTM(64, return_sequences=True, input_shape=(seq_length_cat, n_features)),\n",
        "    Dropout(0.3),\n",
        "    LSTM(32, return_sequences=False),\n",
        "    Dropout(0.3),\n",
        "    Dense(50, activation='relu'),\n",
        "    Dense(n_features, activation='linear')\n",
        "])\n",
        "\n",
        "model_multi.compile(optimizer=Adam(learning_rate=0.001), loss='mse', metrics=['mae'])\n",
        "print(\" Multi-output LSTM model compiled\")\n"
      ],
      "metadata": {
        "colab": {
          "base_uri": "https://localhost:8080/"
        },
        "id": "ZmlyuVX_t0v_",
        "outputId": "b6d9e9fb-4f8d-4e24-98f9-4060b59048ea"
      },
      "execution_count": 16,
      "outputs": [
        {
          "output_type": "stream",
          "name": "stdout",
          "text": [
            " Multi-output LSTM model compiled\n"
          ]
        }
      ]
    },
    {
      "cell_type": "code",
      "source": [
        "# Train multi-output model\n",
        "print(\"\\n Training multi-output LSTM...\")\n",
        "history_multi = model_multi.fit(\n",
        "    X_cat_train, y_cat_train,\n",
        "    epochs=30,\n",
        "    batch_size=8,\n",
        "    validation_data=(X_cat_test, y_cat_test),\n",
        "    callbacks=[early_stopping, reduce_lr],\n",
        "    verbose=1\n",
        ")"
      ],
      "metadata": {
        "colab": {
          "base_uri": "https://localhost:8080/"
        },
        "id": "WLoOg9Tot_xY",
        "outputId": "30d786f9-6ecb-4930-ecaf-cda24b075ec0"
      },
      "execution_count": 17,
      "outputs": [
        {
          "output_type": "stream",
          "name": "stdout",
          "text": [
            "\n",
            " Training multi-output LSTM...\n",
            "Epoch 1/30\n",
            "\u001b[1m9/9\u001b[0m \u001b[32m━━━━━━━━━━━━━━━━━━━━\u001b[0m\u001b[37m\u001b[0m \u001b[1m5s\u001b[0m 77ms/step - loss: 0.1696 - mae: 0.2184 - val_loss: 0.4015 - val_mae: 0.5906 - learning_rate: 0.0010\n",
            "Epoch 2/30\n",
            "\u001b[1m9/9\u001b[0m \u001b[32m━━━━━━━━━━━━━━━━━━━━\u001b[0m\u001b[37m\u001b[0m \u001b[1m0s\u001b[0m 18ms/step - loss: 0.1798 - mae: 0.2685 - val_loss: 0.2192 - val_mae: 0.3888 - learning_rate: 0.0010\n",
            "Epoch 3/30\n",
            "\u001b[1m9/9\u001b[0m \u001b[32m━━━━━━━━━━━━━━━━━━━━\u001b[0m\u001b[37m\u001b[0m \u001b[1m0s\u001b[0m 17ms/step - loss: 0.0881 - mae: 0.1840 - val_loss: 0.1297 - val_mae: 0.2884 - learning_rate: 0.0010\n",
            "Epoch 4/30\n",
            "\u001b[1m9/9\u001b[0m \u001b[32m━━━━━━━━━━━━━━━━━━━━\u001b[0m\u001b[37m\u001b[0m \u001b[1m0s\u001b[0m 18ms/step - loss: 0.0476 - mae: 0.1501 - val_loss: 0.0755 - val_mae: 0.2203 - learning_rate: 0.0010\n",
            "Epoch 5/30\n",
            "\u001b[1m9/9\u001b[0m \u001b[32m━━━━━━━━━━━━━━━━━━━━\u001b[0m\u001b[37m\u001b[0m \u001b[1m0s\u001b[0m 17ms/step - loss: 0.0416 - mae: 0.1436 - val_loss: 0.0509 - val_mae: 0.1876 - learning_rate: 0.0010\n",
            "Epoch 6/30\n",
            "\u001b[1m9/9\u001b[0m \u001b[32m━━━━━━━━━━━━━━━━━━━━\u001b[0m\u001b[37m\u001b[0m \u001b[1m0s\u001b[0m 27ms/step - loss: 0.0458 - mae: 0.1427 - val_loss: 0.0440 - val_mae: 0.1680 - learning_rate: 0.0010\n",
            "Epoch 7/30\n",
            "\u001b[1m9/9\u001b[0m \u001b[32m━━━━━━━━━━━━━━━━━━━━\u001b[0m\u001b[37m\u001b[0m \u001b[1m0s\u001b[0m 28ms/step - loss: 0.0293 - mae: 0.1143 - val_loss: 0.0428 - val_mae: 0.1650 - learning_rate: 0.0010\n",
            "Epoch 8/30\n",
            "\u001b[1m9/9\u001b[0m \u001b[32m━━━━━━━━━━━━━━━━━━━━\u001b[0m\u001b[37m\u001b[0m \u001b[1m0s\u001b[0m 25ms/step - loss: 0.0405 - mae: 0.1326 - val_loss: 0.0456 - val_mae: 0.1639 - learning_rate: 0.0010\n",
            "Epoch 9/30\n",
            "\u001b[1m9/9\u001b[0m \u001b[32m━━━━━━━━━━━━━━━━━━━━\u001b[0m\u001b[37m\u001b[0m \u001b[1m0s\u001b[0m 25ms/step - loss: 0.0270 - mae: 0.1032 - val_loss: 0.0417 - val_mae: 0.1604 - learning_rate: 0.0010\n",
            "Epoch 10/30\n",
            "\u001b[1m9/9\u001b[0m \u001b[32m━━━━━━━━━━━━━━━━━━━━\u001b[0m\u001b[37m\u001b[0m \u001b[1m0s\u001b[0m 30ms/step - loss: 0.0293 - mae: 0.1012 - val_loss: 0.0419 - val_mae: 0.1584 - learning_rate: 0.0010\n",
            "Epoch 11/30\n",
            "\u001b[1m9/9\u001b[0m \u001b[32m━━━━━━━━━━━━━━━━━━━━\u001b[0m\u001b[37m\u001b[0m \u001b[1m0s\u001b[0m 25ms/step - loss: 0.0257 - mae: 0.0937 - val_loss: 0.0409 - val_mae: 0.1605 - learning_rate: 0.0010\n",
            "Epoch 12/30\n",
            "\u001b[1m9/9\u001b[0m \u001b[32m━━━━━━━━━━━━━━━━━━━━\u001b[0m\u001b[37m\u001b[0m \u001b[1m0s\u001b[0m 29ms/step - loss: 0.0213 - mae: 0.0813 - val_loss: 0.0394 - val_mae: 0.1596 - learning_rate: 0.0010\n",
            "Epoch 13/30\n",
            "\u001b[1m9/9\u001b[0m \u001b[32m━━━━━━━━━━━━━━━━━━━━\u001b[0m\u001b[37m\u001b[0m \u001b[1m0s\u001b[0m 30ms/step - loss: 0.0259 - mae: 0.0898 - val_loss: 0.0390 - val_mae: 0.1654 - learning_rate: 0.0010\n",
            "Epoch 14/30\n",
            "\u001b[1m9/9\u001b[0m \u001b[32m━━━━━━━━━━━━━━━━━━━━\u001b[0m\u001b[37m\u001b[0m \u001b[1m1s\u001b[0m 17ms/step - loss: 0.0263 - mae: 0.0883 - val_loss: 0.0407 - val_mae: 0.1587 - learning_rate: 0.0010\n",
            "Epoch 15/30\n",
            "\u001b[1m9/9\u001b[0m \u001b[32m━━━━━━━━━━━━━━━━━━━━\u001b[0m\u001b[37m\u001b[0m \u001b[1m0s\u001b[0m 17ms/step - loss: 0.0187 - mae: 0.0806 - val_loss: 0.0394 - val_mae: 0.1554 - learning_rate: 0.0010\n",
            "Epoch 16/30\n",
            "\u001b[1m9/9\u001b[0m \u001b[32m━━━━━━━━━━━━━━━━━━━━\u001b[0m\u001b[37m\u001b[0m \u001b[1m0s\u001b[0m 21ms/step - loss: 0.0210 - mae: 0.0836 - val_loss: 0.0415 - val_mae: 0.1556 - learning_rate: 0.0010\n",
            "Epoch 17/30\n",
            "\u001b[1m9/9\u001b[0m \u001b[32m━━━━━━━━━━━━━━━━━━━━\u001b[0m\u001b[37m\u001b[0m \u001b[1m0s\u001b[0m 21ms/step - loss: 0.0312 - mae: 0.1055 - val_loss: 0.0391 - val_mae: 0.1551 - learning_rate: 0.0010\n",
            "Epoch 18/30\n",
            "\u001b[1m9/9\u001b[0m \u001b[32m━━━━━━━━━━━━━━━━━━━━\u001b[0m\u001b[37m\u001b[0m \u001b[1m0s\u001b[0m 16ms/step - loss: 0.0269 - mae: 0.0956 - val_loss: 0.0384 - val_mae: 0.1536 - learning_rate: 0.0010\n",
            "Epoch 19/30\n",
            "\u001b[1m9/9\u001b[0m \u001b[32m━━━━━━━━━━━━━━━━━━━━\u001b[0m\u001b[37m\u001b[0m \u001b[1m0s\u001b[0m 21ms/step - loss: 0.0190 - mae: 0.0872 - val_loss: 0.0404 - val_mae: 0.1530 - learning_rate: 0.0010\n",
            "Epoch 20/30\n",
            "\u001b[1m9/9\u001b[0m \u001b[32m━━━━━━━━━━━━━━━━━━━━\u001b[0m\u001b[37m\u001b[0m \u001b[1m0s\u001b[0m 21ms/step - loss: 0.0201 - mae: 0.0799 - val_loss: 0.0356 - val_mae: 0.1581 - learning_rate: 0.0010\n",
            "Epoch 21/30\n",
            "\u001b[1m9/9\u001b[0m \u001b[32m━━━━━━━━━━━━━━━━━━━━\u001b[0m\u001b[37m\u001b[0m \u001b[1m0s\u001b[0m 21ms/step - loss: 0.0151 - mae: 0.0677 - val_loss: 0.0362 - val_mae: 0.1531 - learning_rate: 0.0010\n",
            "Epoch 22/30\n",
            "\u001b[1m9/9\u001b[0m \u001b[32m━━━━━━━━━━━━━━━━━━━━\u001b[0m\u001b[37m\u001b[0m \u001b[1m0s\u001b[0m 17ms/step - loss: 0.0203 - mae: 0.0850 - val_loss: 0.0635 - val_mae: 0.1839 - learning_rate: 0.0010\n",
            "Epoch 23/30\n",
            "\u001b[1m9/9\u001b[0m \u001b[32m━━━━━━━━━━━━━━━━━━━━\u001b[0m\u001b[37m\u001b[0m \u001b[1m0s\u001b[0m 17ms/step - loss: 0.0302 - mae: 0.1075 - val_loss: 0.0434 - val_mae: 0.1519 - learning_rate: 0.0010\n",
            "Epoch 24/30\n",
            "\u001b[1m9/9\u001b[0m \u001b[32m━━━━━━━━━━━━━━━━━━━━\u001b[0m\u001b[37m\u001b[0m \u001b[1m0s\u001b[0m 17ms/step - loss: 0.0311 - mae: 0.1030 - val_loss: 0.0356 - val_mae: 0.1581 - learning_rate: 0.0010\n",
            "Epoch 25/30\n",
            "\u001b[1m9/9\u001b[0m \u001b[32m━━━━━━━━━━━━━━━━━━━━\u001b[0m\u001b[37m\u001b[0m \u001b[1m0s\u001b[0m 17ms/step - loss: 0.0242 - mae: 0.0912 - val_loss: 0.0361 - val_mae: 0.1528 - learning_rate: 0.0010\n",
            "Epoch 26/30\n",
            "\u001b[1m9/9\u001b[0m \u001b[32m━━━━━━━━━━━━━━━━━━━━\u001b[0m\u001b[37m\u001b[0m \u001b[1m0s\u001b[0m 19ms/step - loss: 0.0314 - mae: 0.0943 - val_loss: 0.0390 - val_mae: 0.1509 - learning_rate: 5.0000e-04\n",
            "Epoch 27/30\n",
            "\u001b[1m9/9\u001b[0m \u001b[32m━━━━━━━━━━━━━━━━━━━━\u001b[0m\u001b[37m\u001b[0m \u001b[1m0s\u001b[0m 17ms/step - loss: 0.0230 - mae: 0.0830 - val_loss: 0.0467 - val_mae: 0.1556 - learning_rate: 5.0000e-04\n",
            "Epoch 28/30\n",
            "\u001b[1m9/9\u001b[0m \u001b[32m━━━━━━━━━━━━━━━━━━━━\u001b[0m\u001b[37m\u001b[0m \u001b[1m0s\u001b[0m 16ms/step - loss: 0.0277 - mae: 0.0878 - val_loss: 0.0417 - val_mae: 0.1496 - learning_rate: 5.0000e-04\n",
            "Epoch 29/30\n",
            "\u001b[1m9/9\u001b[0m \u001b[32m━━━━━━━━━━━━━━━━━━━━\u001b[0m\u001b[37m\u001b[0m \u001b[1m0s\u001b[0m 17ms/step - loss: 0.0178 - mae: 0.0705 - val_loss: 0.0351 - val_mae: 0.1529 - learning_rate: 5.0000e-04\n",
            "Epoch 30/30\n",
            "\u001b[1m9/9\u001b[0m \u001b[32m━━━━━━━━━━━━━━━━━━━━\u001b[0m\u001b[37m\u001b[0m \u001b[1m0s\u001b[0m 17ms/step - loss: 0.0167 - mae: 0.0712 - val_loss: 0.0348 - val_mae: 0.1552 - learning_rate: 5.0000e-04\n"
          ]
        }
      ]
    },
    {
      "cell_type": "code",
      "source": [
        "# Make predictions for categories\n",
        "cat_predictions = model_multi.predict(X_cat_test)\n",
        "cat_predictions = scaler_cat.inverse_transform(cat_predictions)\n",
        "y_cat_test_actual = scaler_cat.inverse_transform(y_cat_test)\n",
        "\n",
        "# Calculate category-wise metrics\n",
        "category_metrics = {}\n",
        "for i, category in enumerate(category_daily.columns):\n",
        "    rmse = np.sqrt(mean_squared_error(y_cat_test_actual[:, i], cat_predictions[:, i]))\n",
        "    mae = mean_absolute_error(y_cat_test_actual[:, i], cat_predictions[:, i])\n",
        "    category_metrics[category] = {'RMSE': rmse, 'MAE': mae}\n",
        "\n",
        "print(f\"\\n Category-wise Model Performance:\")\n",
        "for category, metrics in category_metrics.items():\n",
        "    print(f\"  {category:<25} RMSE: {metrics['RMSE']:>6.2f}, MAE: {metrics['MAE']:>6.2f}\")"
      ],
      "metadata": {
        "colab": {
          "base_uri": "https://localhost:8080/"
        },
        "id": "N6FfOqFXuEj0",
        "outputId": "fe9f2c11-12dc-4099-81fe-1d65039baebd"
      },
      "execution_count": 18,
      "outputs": [
        {
          "output_type": "stream",
          "name": "stdout",
          "text": [
            "\u001b[1m1/1\u001b[0m \u001b[32m━━━━━━━━━━━━━━━━━━━━\u001b[0m\u001b[37m\u001b[0m \u001b[1m1s\u001b[0m 525ms/step\n",
            "\n",
            " Category-wise Model Performance:\n",
            "  Business & Management     RMSE:  72.87, MAE:  64.62\n",
            "  Customer Support          RMSE:  82.27, MAE:  71.95\n",
            "  Data & Analytics          RMSE:  62.13, MAE:  50.42\n",
            "  Design & Creative         RMSE: 162.94, MAE: 134.54\n",
            "  E-commerce & Retail       RMSE:  22.62, MAE:  19.80\n",
            "  Finance & Accounting      RMSE:  20.00, MAE:  14.48\n",
            "  Marketing & Advertising   RMSE:  26.08, MAE:  21.44\n",
            "  Marketing & Sales         RMSE: 122.38, MAE: 107.88\n",
            "  Other                     RMSE: 364.70, MAE: 319.88\n",
            "  Sales & Business Development RMSE:  24.49, MAE:  20.95\n",
            "  Software Development      RMSE: 317.69, MAE: 262.80\n",
            "  Writing & Content         RMSE: 100.19, MAE:  76.29\n"
          ]
        }
      ]
    },
    {
      "cell_type": "code",
      "source": [
        "# TASK 3: HIGH-DEMAND JOB PREDICTION USING TEXT FEATURES\n",
        "print(\"\\n\" + \"=\"*50)\n",
        "print(\"TASK 3: HIGH-DEMAND JOB PREDICTION WITH TEXT\")\n",
        "print(\"=\"*50)\n",
        "\n",
        "# Define high-demand based on frequency and hourly rates\n",
        "job_title_freq = df['title_processed'].value_counts()\n",
        "high_demand_threshold = job_title_freq.quantile(0.8)  # Top 20% by frequency\n",
        "\n",
        "# Create target variable for high-demand prediction\n",
        "df['is_high_demand'] = (\n",
        "    df['title_processed'].map(job_title_freq).fillna(0) >= high_demand_threshold\n",
        ").astype(int)\n",
        "\n",
        "print(f\" High-demand jobs: {df['is_high_demand'].sum()} ({df['is_high_demand'].mean()*100:.1f}%)\")\n"
      ],
      "metadata": {
        "colab": {
          "base_uri": "https://localhost:8080/"
        },
        "id": "L40aMK_-uNpz",
        "outputId": "665c9d1f-5c19-48c9-fdab-3915fc931086"
      },
      "execution_count": 19,
      "outputs": [
        {
          "output_type": "stream",
          "name": "stdout",
          "text": [
            "\n",
            "==================================================\n",
            "TASK 3: HIGH-DEMAND JOB PREDICTION WITH TEXT\n",
            "==================================================\n",
            " High-demand jobs: 244655 (100.0%)\n"
          ]
        }
      ]
    },
    {
      "cell_type": "code",
      "source": [
        "# Prepare text data for LSTM\n",
        "print(\"\\n Preparing text data for LSTM...\")\n",
        "\n",
        "# Tokenize job titles\n",
        "max_words = 1000\n",
        "max_len = 20\n",
        "\n",
        "tokenizer = Tokenizer(num_words=max_words, oov_token='<OOV>')\n",
        "tokenizer.fit_on_texts(df['title_processed'].fillna(''))\n",
        "\n",
        "# Convert texts to sequences\n",
        "sequences = tokenizer.texts_to_sequences(df['title_processed'].fillna(''))\n",
        "X_text = pad_sequences(sequences, maxlen=max_len, padding='post', truncating='post')\n",
        "y_demand = df['is_high_demand'].values\n",
        "\n",
        "print(f\" Text sequences shape: {X_text.shape}\")\n",
        "print(f\" Target distribution: {np.bincount(y_demand)}\")\n",
        "\n",
        "# Split data for text classification\n",
        "from sklearn.model_selection import train_test_split\n",
        "X_text_train, X_text_test, y_demand_train, y_demand_test = train_test_split(\n",
        "    X_text, y_demand, test_size=0.2, random_state=42\n",
        ")\n",
        "\n",
        "# Build text classification LSTM\n",
        "print(\"\\n Building text classification LSTM...\")\n",
        "\n",
        "model_text = Sequential([\n",
        "    Embedding(max_words, 128, input_length=max_len),\n",
        "    LSTM(64, return_sequences=True),\n",
        "    Dropout(0.5),\n",
        "    LSTM(32),\n",
        "    Dropout(0.5),\n",
        "    Dense(32, activation='relu'),\n",
        "    Dense(1, activation='sigmoid')\n",
        "])\n",
        "\n",
        "model_text.compile(\n",
        "    optimizer=Adam(learning_rate=0.001),\n",
        "    loss='binary_crossentropy',\n",
        "    metrics=['accuracy']\n",
        ")\n",
        "\n",
        "print(\" Text classification LSTM compiled\")"
      ],
      "metadata": {
        "colab": {
          "base_uri": "https://localhost:8080/"
        },
        "id": "M8Zwk6a6uV_K",
        "outputId": "d14b3965-f27f-4ab2-eab6-b4c574627b58"
      },
      "execution_count": 21,
      "outputs": [
        {
          "output_type": "stream",
          "name": "stdout",
          "text": [
            "\n",
            " Preparing text data for LSTM...\n",
            " Text sequences shape: (244656, 20)\n",
            " Target distribution: [     1 244655]\n",
            "\n",
            " Building text classification LSTM...\n",
            " Text classification LSTM compiled\n"
          ]
        }
      ]
    },
    {
      "cell_type": "code",
      "source": [
        "# Train text classification model\n",
        "print(\"\\n Training text classification LSTM...\")\n",
        "history_text = model_text.fit(\n",
        "    X_text_train, y_demand_train,\n",
        "    epochs=20,\n",
        "    batch_size=32,\n",
        "    validation_data=(X_text_test, y_demand_test),\n",
        "    callbacks=[early_stopping],\n",
        "    verbose=1\n",
        ")"
      ],
      "metadata": {
        "colab": {
          "base_uri": "https://localhost:8080/"
        },
        "id": "_OuWkG_AujOb",
        "outputId": "feae53ee-1f0d-43d0-c1d7-ba0333af54f0"
      },
      "execution_count": 22,
      "outputs": [
        {
          "output_type": "stream",
          "name": "stdout",
          "text": [
            "\n",
            " Training text classification LSTM...\n",
            "Epoch 1/20\n",
            "\u001b[1m6117/6117\u001b[0m \u001b[32m━━━━━━━━━━━━━━━━━━━━\u001b[0m\u001b[37m\u001b[0m \u001b[1m215s\u001b[0m 34ms/step - accuracy: 0.9988 - loss: 0.0091 - val_accuracy: 1.0000 - val_loss: 1.9202e-09\n",
            "Epoch 2/20\n",
            "\u001b[1m6117/6117\u001b[0m \u001b[32m━━━━━━━━━━━━━━━━━━━━\u001b[0m\u001b[37m\u001b[0m \u001b[1m198s\u001b[0m 32ms/step - accuracy: 1.0000 - loss: 1.6345e-05 - val_accuracy: 1.0000 - val_loss: 4.2215e-10\n",
            "Epoch 3/20\n",
            "\u001b[1m6117/6117\u001b[0m \u001b[32m━━━━━━━━━━━━━━━━━━━━\u001b[0m\u001b[37m\u001b[0m \u001b[1m190s\u001b[0m 30ms/step - accuracy: 1.0000 - loss: 4.2213e-04 - val_accuracy: 1.0000 - val_loss: 5.0145e-11\n",
            "Epoch 4/20\n",
            "\u001b[1m6117/6117\u001b[0m \u001b[32m━━━━━━━━━━━━━━━━━━━━\u001b[0m\u001b[37m\u001b[0m \u001b[1m209s\u001b[0m 32ms/step - accuracy: 1.0000 - loss: 2.8341e-05 - val_accuracy: 1.0000 - val_loss: 1.2999e-11\n",
            "Epoch 5/20\n",
            "\u001b[1m6117/6117\u001b[0m \u001b[32m━━━━━━━━━━━━━━━━━━━━\u001b[0m\u001b[37m\u001b[0m \u001b[1m185s\u001b[0m 30ms/step - accuracy: 1.0000 - loss: 5.6890e-05 - val_accuracy: 1.0000 - val_loss: 1.8459e-12\n",
            "Epoch 6/20\n",
            "\u001b[1m6117/6117\u001b[0m \u001b[32m━━━━━━━━━━━━━━━━━━━━\u001b[0m\u001b[37m\u001b[0m \u001b[1m194s\u001b[0m 32ms/step - accuracy: 1.0000 - loss: 1.2889e-04 - val_accuracy: 1.0000 - val_loss: 4.2607e-13\n",
            "Epoch 7/20\n",
            "\u001b[1m6117/6117\u001b[0m \u001b[32m━━━━━━━━━━━━━━━━━━━━\u001b[0m\u001b[37m\u001b[0m \u001b[1m205s\u001b[0m 32ms/step - accuracy: 1.0000 - loss: 9.8933e-05 - val_accuracy: 1.0000 - val_loss: 3.1597e-13\n",
            "Epoch 8/20\n",
            "\u001b[1m6117/6117\u001b[0m \u001b[32m━━━━━━━━━━━━━━━━━━━━\u001b[0m\u001b[37m\u001b[0m \u001b[1m199s\u001b[0m 32ms/step - accuracy: 1.0000 - loss: 2.0861e-04 - val_accuracy: 1.0000 - val_loss: 4.3628e-14\n",
            "Epoch 9/20\n",
            "\u001b[1m6117/6117\u001b[0m \u001b[32m━━━━━━━━━━━━━━━━━━━━\u001b[0m\u001b[37m\u001b[0m \u001b[1m192s\u001b[0m 31ms/step - accuracy: 1.0000 - loss: 5.8547e-06 - val_accuracy: 1.0000 - val_loss: 1.1186e-11\n",
            "Epoch 10/20\n",
            "\u001b[1m6117/6117\u001b[0m \u001b[32m━━━━━━━━━━━━━━━━━━━━\u001b[0m\u001b[37m\u001b[0m \u001b[1m181s\u001b[0m 30ms/step - accuracy: 1.0000 - loss: 3.5198e-05 - val_accuracy: 1.0000 - val_loss: 2.3222e-13\n",
            "Epoch 11/20\n",
            "\u001b[1m6117/6117\u001b[0m \u001b[32m━━━━━━━━━━━━━━━━━━━━\u001b[0m\u001b[37m\u001b[0m \u001b[1m198s\u001b[0m 32ms/step - accuracy: 1.0000 - loss: 7.0686e-05 - val_accuracy: 1.0000 - val_loss: 1.4484e-14\n",
            "Epoch 12/20\n",
            "\u001b[1m6117/6117\u001b[0m \u001b[32m━━━━━━━━━━━━━━━━━━━━\u001b[0m\u001b[37m\u001b[0m \u001b[1m195s\u001b[0m 31ms/step - accuracy: 1.0000 - loss: 8.2877e-06 - val_accuracy: 1.0000 - val_loss: 6.3902e-14\n",
            "Epoch 13/20\n",
            "\u001b[1m6117/6117\u001b[0m \u001b[32m━━━━━━━━━━━━━━━━━━━━\u001b[0m\u001b[37m\u001b[0m \u001b[1m210s\u001b[0m 33ms/step - accuracy: 1.0000 - loss: 2.7523e-04 - val_accuracy: 1.0000 - val_loss: 2.2518e-15\n",
            "Epoch 14/20\n",
            "\u001b[1m6117/6117\u001b[0m \u001b[32m━━━━━━━━━━━━━━━━━━━━\u001b[0m\u001b[37m\u001b[0m \u001b[1m202s\u001b[0m 33ms/step - accuracy: 1.0000 - loss: 2.1275e-05 - val_accuracy: 1.0000 - val_loss: 6.0879e-15\n",
            "Epoch 15/20\n",
            "\u001b[1m6117/6117\u001b[0m \u001b[32m━━━━━━━━━━━━━━━━━━━━\u001b[0m\u001b[37m\u001b[0m \u001b[1m199s\u001b[0m 32ms/step - accuracy: 1.0000 - loss: 2.6877e-04 - val_accuracy: 1.0000 - val_loss: 6.9490e-15\n",
            "Epoch 16/20\n",
            "\u001b[1m6117/6117\u001b[0m \u001b[32m━━━━━━━━━━━━━━━━━━━━\u001b[0m\u001b[37m\u001b[0m \u001b[1m204s\u001b[0m 33ms/step - accuracy: 1.0000 - loss: 2.2197e-04 - val_accuracy: 1.0000 - val_loss: 1.1513e-14\n",
            "Epoch 17/20\n",
            "\u001b[1m6117/6117\u001b[0m \u001b[32m━━━━━━━━━━━━━━━━━━━━\u001b[0m\u001b[37m\u001b[0m \u001b[1m203s\u001b[0m 33ms/step - accuracy: 1.0000 - loss: 2.2544e-05 - val_accuracy: 1.0000 - val_loss: 6.8053e-13\n",
            "Epoch 18/20\n",
            "\u001b[1m6117/6117\u001b[0m \u001b[32m━━━━━━━━━━━━━━━━━━━━\u001b[0m\u001b[37m\u001b[0m \u001b[1m203s\u001b[0m 33ms/step - accuracy: 1.0000 - loss: 5.9315e-05 - val_accuracy: 1.0000 - val_loss: 6.6599e-14\n",
            "Epoch 19/20\n",
            "\u001b[1m6117/6117\u001b[0m \u001b[32m━━━━━━━━━━━━━━━━━━━━\u001b[0m\u001b[37m\u001b[0m \u001b[1m251s\u001b[0m 31ms/step - accuracy: 1.0000 - loss: 5.3557e-05 - val_accuracy: 1.0000 - val_loss: 6.7335e-15\n",
            "Epoch 20/20\n",
            "\u001b[1m6117/6117\u001b[0m \u001b[32m━━━━━━━━━━━━━━━━━━━━\u001b[0m\u001b[37m\u001b[0m \u001b[1m207s\u001b[0m 32ms/step - accuracy: 1.0000 - loss: 1.5536e-05 - val_accuracy: 1.0000 - val_loss: 7.9773e-15\n"
          ]
        }
      ]
    },
    {
      "cell_type": "code",
      "source": [
        "# Evaluate text model\n",
        "text_predictions = model_text.predict(X_text_test)\n",
        "text_predictions_binary = (text_predictions > 0.5).astype(int)\n",
        "\n",
        "from sklearn.metrics import accuracy_score, classification_report, confusion_matrix\n",
        "\n",
        "text_accuracy = accuracy_score(y_demand_test, text_predictions_binary)\n",
        "print(f\"\\n Text Classification Performance:\")\n",
        "print(f\"  Accuracy: {text_accuracy:.3f}\")\n",
        "print(f\"\\n Classification Report:\")\n",
        "print(classification_report(y_demand_test, text_predictions_binary))"
      ],
      "metadata": {
        "colab": {
          "base_uri": "https://localhost:8080/"
        },
        "id": "3HeRMOLRu12K",
        "outputId": "eb60ed89-0f54-4356-81dd-04f8488b21f7"
      },
      "execution_count": 23,
      "outputs": [
        {
          "output_type": "stream",
          "name": "stdout",
          "text": [
            "\u001b[1m1530/1530\u001b[0m \u001b[32m━━━━━━━━━━━━━━━━━━━━\u001b[0m\u001b[37m\u001b[0m \u001b[1m14s\u001b[0m 9ms/step\n",
            "\n",
            " Text Classification Performance:\n",
            "  Accuracy: 1.000\n",
            "\n",
            " Classification Report:\n",
            "              precision    recall  f1-score   support\n",
            "\n",
            "           1       1.00      1.00      1.00     48932\n",
            "\n",
            "    accuracy                           1.00     48932\n",
            "   macro avg       1.00      1.00      1.00     48932\n",
            "weighted avg       1.00      1.00      1.00     48932\n",
            "\n"
          ]
        }
      ]
    },
    {
      "cell_type": "code",
      "source": [
        "# Visualize text model results\n",
        "plt.figure(figsize=(15, 8))\n",
        "\n",
        "plt.subplot(2, 3, 1)\n",
        "plt.plot(history_multi.history['loss'], label='Training Loss')\n",
        "plt.plot(history_multi.history['val_loss'], label='Validation Loss')\n",
        "plt.title('Multi-output LSTM Loss')\n",
        "plt.xlabel('Epoch')\n",
        "plt.ylabel('Loss')\n",
        "plt.legend()\n",
        "\n",
        "plt.subplot(2, 3, 2)\n",
        "# Show category predictions for first few test samples\n",
        "categories_to_plot = category_daily.columns[:5]\n",
        "for i, cat in enumerate(categories_to_plot):\n",
        "    plt.plot(y_cat_test_actual[:20, i], label=f'Actual {cat}', alpha=0.7)\n",
        "    plt.plot(cat_predictions[:20, i], '--', label=f'Pred {cat}', alpha=0.7)\n",
        "plt.title('Category Predictions (First 20 points)')\n",
        "plt.xlabel('Time')\n",
        "plt.ylabel('Job Count')\n",
        "plt.legend(bbox_to_anchor=(1.05, 1), loc='upper left')\n",
        "\n",
        "plt.subplot(2, 3, 3)\n",
        "plt.plot(history_text.history['accuracy'], label='Training Accuracy')\n",
        "plt.plot(history_text.history['val_accuracy'], label='Validation Accuracy')\n",
        "plt.title('Text Classification Accuracy')\n",
        "plt.xlabel('Epoch')\n",
        "plt.ylabel('Accuracy')\n",
        "plt.legend()\n",
        "\n",
        "plt.subplot(2, 3, 4)\n",
        "cm = confusion_matrix(y_demand_test, text_predictions_binary)\n",
        "sns.heatmap(cm, annot=True, fmt='d', cmap='Blues')\n",
        "plt.title('Confusion Matrix - High Demand Prediction')\n",
        "plt.xlabel('Predicted')\n",
        "plt.ylabel('Actual')\n",
        "\n",
        "plt.subplot(2, 3, 5)\n",
        "# Feature importance visualization\n",
        "top_categories = category_daily.mean().sort_values(ascending=False)\n",
        "top_categories.head(8).plot(kind='bar', color='lightcoral')\n",
        "plt.title('Average Daily Job Count by Category')\n",
        "plt.xlabel('Job Category')\n",
        "plt.ylabel('Average Jobs per Day')\n",
        "plt.xticks(rotation=45, ha='right')\n",
        "\n",
        "plt.tight_layout()\n",
        "plt.savefig('lstm_models_comprehensive.png', dpi=300, bbox_inches='tight')\n",
        "plt.show()"
      ],
      "metadata": {
        "id": "pODGvqqCvQAq"
      },
      "execution_count": null,
      "outputs": []
    },
    {
      "cell_type": "code",
      "source": [
        "# SAVE MODELS\n",
        "print(\"\\n Saving trained models...\")\n",
        "model_lstm.save('lstm_job_volume_model.h5')\n",
        "model_multi.save('lstm_category_demand_model.h5')\n",
        "model_text.save('lstm_high_demand_classifier.h5')\n",
        "\n",
        "# Save preprocessing objects\n",
        "import joblib\n",
        "joblib.dump(scaler, 'job_volume_scaler.pkl')\n",
        "joblib.dump(scaler_cat, 'category_scaler.pkl')\n",
        "joblib.dump(tokenizer, 'text_tokenizer.pkl')\n",
        "\n",
        "print(\" Models saved successfully\")"
      ],
      "metadata": {
        "colab": {
          "base_uri": "https://localhost:8080/"
        },
        "id": "Ln7yg0X5vXON",
        "outputId": "fa19d9e6-1f3e-4d80-cbfb-c700228a8d5e"
      },
      "execution_count": 25,
      "outputs": [
        {
          "output_type": "stream",
          "name": "stderr",
          "text": [
            "WARNING:absl:You are saving your model as an HDF5 file via `model.save()` or `keras.saving.save_model(model)`. This file format is considered legacy. We recommend using instead the native Keras format, e.g. `model.save('my_model.keras')` or `keras.saving.save_model(model, 'my_model.keras')`. \n",
            "WARNING:absl:You are saving your model as an HDF5 file via `model.save()` or `keras.saving.save_model(model)`. This file format is considered legacy. We recommend using instead the native Keras format, e.g. `model.save('my_model.keras')` or `keras.saving.save_model(model, 'my_model.keras')`. \n",
            "WARNING:absl:You are saving your model as an HDF5 file via `model.save()` or `keras.saving.save_model(model)`. This file format is considered legacy. We recommend using instead the native Keras format, e.g. `model.save('my_model.keras')` or `keras.saving.save_model(model, 'my_model.keras')`. \n"
          ]
        },
        {
          "output_type": "stream",
          "name": "stdout",
          "text": [
            "\n",
            " Saving trained models...\n",
            " Models saved successfully\n"
          ]
        }
      ]
    },
    {
      "cell_type": "code",
      "source": [
        "# GENERATE FUTURE PREDICTIONS\n",
        "print(\"\\n\" + \"=\"*50)\n",
        "print(\"FUTURE PREDICTIONS\")\n",
        "print(\"=\"*50)\n",
        "\n",
        "# Predict next 7 days of job volume\n",
        "print(\" Predicting next 7 days of job postings...\")\n",
        "last_sequence = job_counts_scaled[-seq_length:]\n",
        "future_predictions = []\n",
        "\n",
        "for _ in range(7):\n",
        "    next_pred = model_lstm.predict(last_sequence.reshape(1, seq_length, 1))\n",
        "    future_predictions.append(next_pred[0, 0])\n",
        "    # Update sequence for next prediction\n",
        "    last_sequence = np.append(last_sequence[1:], next_pred[0, 0])\n",
        "\n",
        "future_predictions = scaler.inverse_transform(np.array(future_predictions).reshape(-1, 1))\n",
        "\n",
        "future_dates = pd.date_range(start=daily_jobs['date'].max() + pd.Timedelta(days=1), periods=7)\n",
        "future_df = pd.DataFrame({\n",
        "    'date': future_dates,\n",
        "    'predicted_jobs': future_predictions.flatten()\n",
        "})\n",
        "\n",
        "print(\" Next 7 days job volume predictions:\")\n",
        "for _, row in future_df.iterrows():\n",
        "    print(f\"  {row['date'].date()}: {row['predicted_jobs']:.0f} jobs\")\n"
      ],
      "metadata": {
        "colab": {
          "base_uri": "https://localhost:8080/"
        },
        "id": "wjxNCt4Hve2h",
        "outputId": "05d89c52-f4b2-4841-936c-62e115a30370"
      },
      "execution_count": 26,
      "outputs": [
        {
          "output_type": "stream",
          "name": "stdout",
          "text": [
            "\n",
            "==================================================\n",
            "FUTURE PREDICTIONS\n",
            "==================================================\n",
            "🔮 Predicting next 7 days of job postings...\n",
            "\u001b[1m1/1\u001b[0m \u001b[32m━━━━━━━━━━━━━━━━━━━━\u001b[0m\u001b[37m\u001b[0m \u001b[1m0s\u001b[0m 54ms/step\n",
            "\u001b[1m1/1\u001b[0m \u001b[32m━━━━━━━━━━━━━━━━━━━━\u001b[0m\u001b[37m\u001b[0m \u001b[1m0s\u001b[0m 53ms/step\n",
            "\u001b[1m1/1\u001b[0m \u001b[32m━━━━━━━━━━━━━━━━━━━━\u001b[0m\u001b[37m\u001b[0m \u001b[1m0s\u001b[0m 54ms/step\n",
            "\u001b[1m1/1\u001b[0m \u001b[32m━━━━━━━━━━━━━━━━━━━━\u001b[0m\u001b[37m\u001b[0m \u001b[1m0s\u001b[0m 58ms/step\n",
            "\u001b[1m1/1\u001b[0m \u001b[32m━━━━━━━━━━━━━━━━━━━━\u001b[0m\u001b[37m\u001b[0m \u001b[1m0s\u001b[0m 52ms/step\n",
            "\u001b[1m1/1\u001b[0m \u001b[32m━━━━━━━━━━━━━━━━━━━━\u001b[0m\u001b[37m\u001b[0m \u001b[1m0s\u001b[0m 51ms/step\n",
            "\u001b[1m1/1\u001b[0m \u001b[32m━━━━━━━━━━━━━━━━━━━━\u001b[0m\u001b[37m\u001b[0m \u001b[1m0s\u001b[0m 50ms/step\n",
            " Next 7 days job volume predictions:\n",
            "  2024-03-25: 5929 jobs\n",
            "  2024-03-26: 5579 jobs\n",
            "  2024-03-27: 5272 jobs\n",
            "  2024-03-28: 5009 jobs\n",
            "  2024-03-29: 4765 jobs\n",
            "  2024-03-30: 4608 jobs\n",
            "  2024-03-31: 4670 jobs\n"
          ]
        }
      ]
    },
    {
      "cell_type": "code",
      "source": [
        "# Summary\n",
        "print(\"\\n\" + \"=\"*50)\n",
        "print(\"LSTM MODEL BUILDING SUMMARY\")\n",
        "print(\"=\"*50)\n",
        "print(\" Job Volume LSTM:\")\n",
        "print(f\"  - Trained on {len(X_train)} sequences\")\n",
        "print(f\"  - Test RMSE: {test_rmse:.2f}\")\n",
        "print(f\"  - Test MAE: {test_mae:.2f}\")\n",
        "\n",
        "print(\" Category Demand LSTM:\")\n",
        "print(f\"  - Predicts {n_features} job categories\")\n",
        "print(f\"  - Trained on {len(X_cat_train)} sequences\")\n",
        "\n",
        "print(\" High-Demand Text Classifier:\")\n",
        "print(f\"  - Text classification accuracy: {text_accuracy:.3f}\")\n",
        "print(f\"  - Trained on {len(X_text_train)} job titles\")\n",
        "\n",
        "print(\" Future Predictions:\")\n",
        "print(f\"  - Generated 7-day forecast\")\n",
        "print(f\"  - Average predicted jobs: {future_predictions.mean():.1f}/day\")\n",
        "\n",
        "print(f\"\\n LSTM model building completed successfully!\")"
      ],
      "metadata": {
        "colab": {
          "base_uri": "https://localhost:8080/"
        },
        "id": "O91AEojKvhHp",
        "outputId": "7425c55d-2911-4917-d342-47bc0c7ecc15"
      },
      "execution_count": 27,
      "outputs": [
        {
          "metadata": {
            "tags": null
          },
          "name": "stdout",
          "output_type": "stream",
          "text": [
            "\n",
            "==================================================\n",
            "LSTM MODEL BUILDING SUMMARY\n",
            "==================================================\n",
            " Job Volume LSTM:\n",
            "  - Trained on 65 sequences\n",
            "  - Test RMSE: 1368.42\n",
            "  - Test MAE: 1141.78\n",
            " Category Demand LSTM:\n",
            "  - Predicts 12 job categories\n",
            "  - Trained on 67 sequences\n",
            " High-Demand Text Classifier:\n",
            "  - Text classification accuracy: 1.000\n",
            "  - Trained on 195724 job titles\n",
            " Future Predictions:\n",
            "  - Generated 7-day forecast\n",
            "  - Average predicted jobs: 5118.9/day\n",
            "\n",
            " LSTM model building completed successfully!\n"
          ]
        }
      ]
    },
    {
      "cell_type": "code",
      "source": [],
      "metadata": {
        "id": "5P7qSa5gxaT2"
      },
      "execution_count": null,
      "outputs": []
    }
  ]
}