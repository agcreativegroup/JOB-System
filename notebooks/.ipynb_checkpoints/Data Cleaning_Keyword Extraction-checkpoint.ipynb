{
 "cells": [
  {
   "cell_type": "code",
   "execution_count": 35,
   "id": "001d318a-2d55-4f37-95ad-3a5b84ee3db9",
   "metadata": {},
   "outputs": [],
   "source": [
    "import pandas as pd\n",
    "import numpy as np\n",
    "import nltk\n",
    "from nltk.corpus import stopwords\n",
    "from nltk.tokenize import word_tokenize\n",
    "import string\n",
    "from collections import Counter\n",
    "import re"
   ]
  },
  {
   "cell_type": "code",
   "execution_count": 7,
   "id": "a95e48d6-d267-4d9e-8e88-5cd6781e9494",
   "metadata": {},
   "outputs": [
    {
     "name": "stdout",
     "output_type": "stream",
     "text": [
      "                                               title  \\\n",
      "0  Experienced Media Buyer For Solar Pannel and R...   \n",
      "1                               Full Stack Developer   \n",
      "2                                    SMMA Bubble App   \n",
      "3             Talent Hunter Specialized in Marketing   \n",
      "4                                      Data Engineer   \n",
      "\n",
      "                                                link  \\\n",
      "0  https://www.upwork.com/jobs/Experienced-Media-...   \n",
      "1  https://www.upwork.com/jobs/Full-Stack-Develop...   \n",
      "2  https://www.upwork.com/jobs/SMMA-Bubble-App_%7...   \n",
      "3  https://www.upwork.com/jobs/Talent-Hunter-Spec...   \n",
      "4  https://www.upwork.com/jobs/Data-Engineer_%7E0...   \n",
      "\n",
      "              published_date  is_hourly  hourly_low  hourly_high  budget  \\\n",
      "0  2024-02-17 09:09:54+00:00      False         NaN          NaN   500.0   \n",
      "1  2024-02-17 09:09:17+00:00      False         NaN          NaN  1100.0   \n",
      "2  2024-02-17 09:08:46+00:00       True        10.0         30.0     NaN   \n",
      "3  2024-02-17 09:08:08+00:00       True         NaN          NaN     NaN   \n",
      "4  2024-02-17 09:07:42+00:00      False         NaN          NaN   650.0   \n",
      "\n",
      "         country  \n",
      "0            NaN  \n",
      "1  United States  \n",
      "2  United States  \n",
      "3  United States  \n",
      "4          India  \n",
      "<class 'pandas.core.frame.DataFrame'>\n",
      "RangeIndex: 244828 entries, 0 to 244827\n",
      "Data columns (total 8 columns):\n",
      " #   Column          Non-Null Count   Dtype  \n",
      "---  ------          --------------   -----  \n",
      " 0   title           244827 non-null  object \n",
      " 1   link            244827 non-null  object \n",
      " 2   published_date  244828 non-null  object \n",
      " 3   is_hourly       244828 non-null  bool   \n",
      " 4   hourly_low      102422 non-null  float64\n",
      " 5   hourly_high     98775 non-null   float64\n",
      " 6   budget          103891 non-null  float64\n",
      " 7   country         239751 non-null  object \n",
      "dtypes: bool(1), float64(3), object(4)\n",
      "memory usage: 13.3+ MB\n",
      "None\n"
     ]
    }
   ],
   "source": [
    "data = pd.read_csv(\"all_upwork_jobs_2024-02-07-2024-03-24 (1).csv\")\n",
    "\n",
    "# Show first 5 rows\n",
    "print(data.head())\n",
    "print(data.info())"
   ]
  },
  {
   "cell_type": "code",
   "execution_count": 9,
   "id": "78108ed4-0f01-408d-a8ed-05320825ca8d",
   "metadata": {},
   "outputs": [
    {
     "name": "stdout",
     "output_type": "stream",
     "text": [
      "title                  1\n",
      "link                   1\n",
      "published_date         0\n",
      "is_hourly              0\n",
      "hourly_low        142406\n",
      "hourly_high       146053\n",
      "budget            140937\n",
      "country             5077\n",
      "dtype: int64\n"
     ]
    }
   ],
   "source": [
    "# Drop duplicate rows\n",
    "data = data.drop_duplicates()\n",
    "\n",
    "# Check missing values\n",
    "print(data.isnull().sum())\n",
    "\n",
    "# Fill missing numeric values with median, text with empty string\n",
    "for col in data.columns:\n",
    "    if data[col].dtype == 'float64' or data[col].dtype == 'int64':\n",
    "        data[col] = data[col].fillna(data[col].median())\n",
    "    else:\n",
    "        data[col] = data[col].fillna(\"\")"
   ]
  },
  {
   "cell_type": "code",
   "execution_count": 13,
   "id": "1033686f-a5f4-48c1-8b82-cc0e39e31af1",
   "metadata": {},
   "outputs": [
    {
     "name": "stderr",
     "output_type": "stream",
     "text": [
      "<>:3: SyntaxWarning: invalid escape sequence '\\$'\n",
      "<>:6: SyntaxWarning: invalid escape sequence '\\$'\n",
      "<>:3: SyntaxWarning: invalid escape sequence '\\$'\n",
      "<>:6: SyntaxWarning: invalid escape sequence '\\$'\n",
      "C:\\Users\\gurpr\\AppData\\Local\\Temp\\ipykernel_4252\\273719011.py:3: SyntaxWarning: invalid escape sequence '\\$'\n",
      "  data['budget'] = data['budget'].replace('[\\$,]', '', regex=True).astype(float)\n",
      "C:\\Users\\gurpr\\AppData\\Local\\Temp\\ipykernel_4252\\273719011.py:6: SyntaxWarning: invalid escape sequence '\\$'\n",
      "  data['is_hourly'] = data['is_hourly'].replace('[\\$,]', '', regex=True).astype(float)\n"
     ]
    },
    {
     "name": "stdout",
     "output_type": "stream",
     "text": [
      "               budget      is_hourly\n",
      "count   244828.000000  244828.000000\n",
      "mean       444.342967       0.575657\n",
      "std      10254.421295       0.494244\n",
      "min          5.000000       0.000000\n",
      "25%        100.000000       0.000000\n",
      "50%        100.000000       1.000000\n",
      "75%        100.000000       1.000000\n",
      "max    1000000.000000       1.000000\n"
     ]
    }
   ],
   "source": [
    "# Convert salary and hourly to numeric (remove $ , commas etc.)\n",
    "if 'budget' in data.columns:\n",
    "    data['budget'] = data['budget'].replace('[\\$,]', '', regex=True).astype(float)\n",
    "\n",
    "if 'is_hourly' in data.columns:\n",
    "    data['is_hourly'] = data['is_hourly'].replace('[\\$,]', '', regex=True).astype(float)\n",
    "\n",
    "# Check summary\n",
    "print(data[['budget','is_hourly']].describe())\n"
   ]
  },
  {
   "cell_type": "markdown",
   "id": "9334928f-305b-47b7-ba11-28f8d6191233",
   "metadata": {},
   "source": [
    "# Extract Keywords from Job Titles"
   ]
  },
  {
   "cell_type": "code",
   "execution_count": 51,
   "id": "2e888e84-365a-43bb-8503-5f2acdb2d4e6",
   "metadata": {},
   "outputs": [
    {
     "name": "stdout",
     "output_type": "stream",
     "text": [
      "                                               title  \\\n",
      "0  Experienced Media Buyer For Solar Pannel and R...   \n",
      "1                               Full Stack Developer   \n",
      "2                                    SMMA Bubble App   \n",
      "3             Talent Hunter Specialized in Marketing   \n",
      "4                                      Data Engineer   \n",
      "\n",
      "                                            keywords  \n",
      "0  [experienced, media, buyer, solar, pannel, roo...  \n",
      "1                           [full, stack, developer]  \n",
      "2                                [smma, bubble, app]  \n",
      "3           [talent, hunter, specialized, marketing]  \n",
      "4                                   [data, engineer]  \n"
     ]
    }
   ],
   "source": [
    "# Base stopwords (English)\n",
    "stop_words = set(stopwords.words('english'))\n",
    "\n",
    "# Add custom stopwords\n",
    "custom_stopwords = {\n",
    "    \"and\",\"or\",\"to\",\"a\",\"the\",\"in\",\"of\",\"for\",\"on\",\"with\",\"at\",\"by\",\"an\",\n",
    "    \"is\",\"are\",\"from\",\"as\",\"it\",\"this\",\"that\",\"be\",\"we\",\"i\",\"you\",\"they\",\n",
    "    \"our\",\"us\",\"your\",\"job\",\"work\",\"project\",\"need\",\"looking\",\"want\",\n",
    "    \"amp\",\"-\",\"_\",\":\",\".\",\",\",\";\",\"'\",\"``\",\"''\",\"(\",\")\",\"/\",\"|\"\n",
    "}\n",
    "stop_words = stop_words.union(custom_stopwords)\n",
    "\n",
    "# Clean job titles\n",
    "data['job_title_clean'] = data['title'].str.lower()\n",
    "\n",
    "# Remove punctuation & symbols\n",
    "data['job_title_clean'] = data['job_title_clean'].apply(\n",
    "    lambda x: re.sub(r\"[()/:&.,]\", \" \", str(x))\n",
    ")\n",
    "\n",
    "# Remove multiple spaces\n",
    "data['job_title_clean'] = data['job_title_clean'].str.replace(r\"\\s+\", \" \", regex=True)\n",
    "\n",
    "# Tokenize and remove stopwords\n",
    "data['keywords'] = data['job_title_clean'].apply(\n",
    "    lambda x: [word for word in word_tokenize(x) if word not in stop_words and len(word) > 2]\n",
    ")\n",
    "\n",
    "# Show example\n",
    "print(data[['title','keywords']].head())"
   ]
  },
  {
   "cell_type": "markdown",
   "id": "541a6538-7149-4436-949f-2681c3ca6d2a",
   "metadata": {},
   "source": [
    "# Keyword Frequency"
   ]
  },
  {
   "cell_type": "code",
   "execution_count": 53,
   "id": "4d89d9ed-783f-4b4d-ba62-01547e8429c7",
   "metadata": {},
   "outputs": [
    {
     "name": "stdout",
     "output_type": "stream",
     "text": [
      "Top 20 Keywords:\n",
      "[('needed', 17556), ('website', 16846), ('developer', 16015), ('expert', 14978), ('video', 13982), ('design', 13127), ('designer', 12922), ('specialist', 9012), ('marketing', 8396), ('media', 8256), ('app', 8214), ('editor', 7994), ('social', 7645), ('youtube', 7638), ('data', 7123), ('create', 6864), ('manager', 6848), ('content', 6808), ('wordpress', 6763), ('google', 6733)]\n"
     ]
    }
   ],
   "source": [
    "all_keywords = []\n",
    "\n",
    "for row in data['keywords']:\n",
    "    all_keywords.extend(row)\n",
    "\n",
    "# Count top 20 keywords\n",
    "keyword_freq = Counter(all_keywords).most_common(20)\n",
    "\n",
    "print(\"Top 20 Keywords:\")\n",
    "print(keyword_freq)"
   ]
  },
  {
   "cell_type": "code",
   "execution_count": 55,
   "id": "c2149c14-7dad-465e-b441-8f57e0f56ee7",
   "metadata": {},
   "outputs": [
    {
     "name": "stdout",
     "output_type": "stream",
     "text": [
      "Cleaned dataset saved as cleaned_jobs.csv\n"
     ]
    }
   ],
   "source": [
    "data.to_csv(\"cleaned_jobs.csv\", index=False)\n",
    "\n",
    "print(\"Cleaned dataset saved as cleaned_jobs.csv\")"
   ]
  },
  {
   "cell_type": "code",
   "execution_count": null,
   "id": "fd3b93a4-2a2b-4ca4-9d30-7bc63ac945f8",
   "metadata": {},
   "outputs": [],
   "source": []
  }
 ],
 "metadata": {
  "kernelspec": {
   "display_name": "Python 3 (ipykernel)",
   "language": "python",
   "name": "python3"
  },
  "language_info": {
   "codemirror_mode": {
    "name": "ipython",
    "version": 3
   },
   "file_extension": ".py",
   "mimetype": "text/x-python",
   "name": "python",
   "nbconvert_exporter": "python",
   "pygments_lexer": "ipython3",
   "version": "3.12.4"
  }
 },
 "nbformat": 4,
 "nbformat_minor": 5
}
